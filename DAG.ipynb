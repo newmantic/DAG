{
  "nbformat": 4,
  "nbformat_minor": 0,
  "metadata": {
    "colab": {
      "provenance": [],
      "authorship_tag": "ABX9TyMcEFBwGewzgb4HYah5kVVi",
      "include_colab_link": true
    },
    "kernelspec": {
      "name": "python3",
      "display_name": "Python 3"
    },
    "language_info": {
      "name": "python"
    }
  },
  "cells": [
    {
      "cell_type": "markdown",
      "metadata": {
        "id": "view-in-github",
        "colab_type": "text"
      },
      "source": [
        "<a href=\"https://colab.research.google.com/github/newmantic/DAG/blob/main/DAG.ipynb\" target=\"_parent\"><img src=\"https://colab.research.google.com/assets/colab-badge.svg\" alt=\"Open In Colab\"/></a>"
      ]
    },
    {
      "cell_type": "code",
      "execution_count": 1,
      "metadata": {
        "id": "DBul95eqBby8"
      },
      "outputs": [],
      "source": [
        "class Graph:\n",
        "    def __init__(self, vertices):\n",
        "        self.V = vertices  # Number of vertices\n",
        "        self.adj = [[] for _ in range(vertices)]  # Adjacency list for the graph\n",
        "\n",
        "    def add_edge(self, u, v):\n",
        "        \"\"\"Add a directed edge from u to v.\"\"\"\n",
        "        self.adj[u].append(v)\n",
        "\n",
        "    def topological_sort_dfs(self):\n",
        "        \"\"\"Perform topological sort using Depth-First Search (DFS).\"\"\"\n",
        "        visited = [False] * self.V\n",
        "        stack = []\n",
        "\n",
        "        def dfs(v):\n",
        "            visited[v] = True\n",
        "            for neighbor in self.adj[v]:\n",
        "                if not visited[neighbor]:\n",
        "                    dfs(neighbor)\n",
        "            stack.append(v)\n",
        "\n",
        "        for i in range(self.V):\n",
        "            if not visited[i]:\n",
        "                dfs(i)\n",
        "\n",
        "        return stack[::-1]  # Reverse the stack to get the topological order\n",
        "\n",
        "    def topological_sort_kahn(self):\n",
        "        \"\"\"Perform topological sort using Kahn's algorithm.\"\"\"\n",
        "        in_degree = [0] * self.V\n",
        "        for u in range(self.V):\n",
        "            for v in self.adj[u]:\n",
        "                in_degree[v] += 1\n",
        "\n",
        "        # Queue for vertices with no incoming edges\n",
        "        queue = [i for i in range(self.V) if in_degree[i] == 0]\n",
        "        top_order = []\n",
        "\n",
        "        while queue:\n",
        "            u = queue.pop(0)\n",
        "            top_order.append(u)\n",
        "\n",
        "            # Decrease the in-degree of neighbor vertices\n",
        "            for v in self.adj[u]:\n",
        "                in_degree[v] -= 1\n",
        "                if in_degree[v] == 0:\n",
        "                    queue.append(v)\n",
        "\n",
        "        if len(top_order) != self.V:\n",
        "            raise Exception(\"Graph has at least one cycle, topological sort not possible.\")\n",
        "\n",
        "        return top_order\n"
      ]
    },
    {
      "cell_type": "code",
      "source": [
        "# Example test cases\n",
        "def test_topological_sort():\n",
        "    # Create a graph instance\n",
        "    g = Graph(6)\n",
        "\n",
        "    # Add edges to the graph (DAG)\n",
        "    g.add_edge(5, 2)\n",
        "    g.add_edge(5, 0)\n",
        "    g.add_edge(4, 0)\n",
        "    g.add_edge(4, 1)\n",
        "    g.add_edge(2, 3)\n",
        "    g.add_edge(3, 1)\n",
        "\n",
        "    # Perform topological sort using DFS\n",
        "    print(\"Topological Sort using DFS:\")\n",
        "    print(g.topological_sort_dfs())\n",
        "\n",
        "    # Perform topological sort using Kahn's algorithm\n",
        "    print(\"Topological Sort using Kahn's Algorithm:\")\n",
        "    print(g.topological_sort_kahn())\n",
        "\n",
        "\n",
        "# Advanced Test Cases\n",
        "def additional_tests():\n",
        "    # Test Case 1: Simple graph\n",
        "    g1 = Graph(4)\n",
        "    g1.add_edge(0, 1)\n",
        "    g1.add_edge(1, 2)\n",
        "    g1.add_edge(2, 3)\n",
        "    print(\"Test Case 1 - Topological Sort:\")\n",
        "    print(g1.topological_sort_dfs())\n",
        "\n",
        "    # Test Case 2: More complex graph\n",
        "    g2 = Graph(6)\n",
        "    g2.add_edge(5, 2)\n",
        "    g2.add_edge(5, 0)\n",
        "    g2.add_edge(4, 0)\n",
        "    g2.add_edge(4, 1)\n",
        "    g2.add_edge(2, 3)\n",
        "    g2.add_edge(3, 1)\n",
        "    print(\"Test Case 2 - Topological Sort:\")\n",
        "    print(g2.topological_sort_kahn())\n",
        "\n",
        "    # Test Case 3: Cycle detection\n",
        "    g3 = Graph(3)\n",
        "    g3.add_edge(0, 1)\n",
        "    g3.add_edge(1, 2)\n",
        "    g3.add_edge(2, 0)  # Creates a cycle\n",
        "    try:\n",
        "        print(\"Test Case 3 - Topological Sort (Cycle):\")\n",
        "        print(g3.topological_sort_kahn())\n",
        "    except Exception as e:\n",
        "        print(e)\n",
        "\n",
        "# Run the tests\n",
        "test_topological_sort()\n",
        "additional_tests()"
      ],
      "metadata": {
        "colab": {
          "base_uri": "https://localhost:8080/"
        },
        "id": "kCE3QAMFBx10",
        "outputId": "9df6b0bc-6968-4cdb-daff-77a9b0a0de6a"
      },
      "execution_count": 2,
      "outputs": [
        {
          "output_type": "stream",
          "name": "stdout",
          "text": [
            "Topological Sort using DFS:\n",
            "[5, 4, 2, 3, 1, 0]\n",
            "Topological Sort using Kahn's Algorithm:\n",
            "[4, 5, 2, 0, 3, 1]\n",
            "Test Case 1 - Topological Sort:\n",
            "[0, 1, 2, 3]\n",
            "Test Case 2 - Topological Sort:\n",
            "[4, 5, 2, 0, 3, 1]\n",
            "Test Case 3 - Topological Sort (Cycle):\n",
            "Graph has at least one cycle, topological sort not possible.\n"
          ]
        }
      ]
    }
  ]
}